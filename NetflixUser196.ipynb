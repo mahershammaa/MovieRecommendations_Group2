{
 "cells": [
  {
   "cell_type": "code",
   "execution_count": 1,
   "metadata": {},
   "outputs": [
    {
     "name": "stderr",
     "output_type": "stream",
     "text": [
      "C:\\ProgramData\\Anaconda3\\lib\\site-packages\\statsmodels\\compat\\pandas.py:56: FutureWarning: The pandas.core.datetools module is deprecated and will be removed in a future version. Please use the pandas.tseries module instead.\n",
      "  from pandas.core import datetools\n"
     ]
    }
   ],
   "source": [
    "import pandas as pd\n",
    "import seaborn as sns\n",
    "import matplotlib.pyplot as plt\n",
    "import statsmodels.api as sm\n",
    "import numpy as np"
   ]
  },
  {
   "cell_type": "code",
   "execution_count": null,
   "metadata": {
    "collapsed": true
   },
   "outputs": [],
   "source": [
    "#First we import all the data needed "
   ]
  },
  {
   "cell_type": "code",
   "execution_count": 2,
   "metadata": {
    "collapsed": true
   },
   "outputs": [],
   "source": [
    "columns = ['user_id', 'age', 'sex', 'occupation', 'zip_code']\n",
    "users = pd.read_csv('ml-100k/u.user',sep='|', names = columns, encoding='latin-1' )\n",
    "\n",
    "columns = ['movie_id','title','release_date','imdb_url']\n",
    "movies = pd.read_csv('ml-100k/u.item',sep='|', encoding='latin-1', header=None )\n",
    "movies = movies[movies.columns[[0,1,2,4]]]\n",
    "movies.columns = columns\n",
    "\n",
    "columns = ['user_id', 'movie_id', 'rating']\n",
    "ratings = pd.read_csv('ml-100k/u.data', sep = '\\t', names = columns, encoding = 'latin-1', index_col = False)"
   ]
  },
  {
   "cell_type": "code",
   "execution_count": null,
   "metadata": {
    "collapsed": true
   },
   "outputs": [],
   "source": [
    "#Now we reduce our ratings data to that of user 196, and take out 15 data points in order to keep as atest of our model"
   ]
  },
  {
   "cell_type": "code",
   "execution_count": 3,
   "metadata": {
    "collapsed": true
   },
   "outputs": [],
   "source": [
    "ratings_196 = ratings.where(ratings.user_id==196).dropna()\n",
    "test_ratings_196 = ratings_196[:15]\n",
    "ratings_196 = ratings_196[~ratings_196.movie_id.isin(test_ratings_196.movie_id)]"
   ]
  },
  {
   "cell_type": "code",
   "execution_count": null,
   "metadata": {
    "collapsed": true
   },
   "outputs": [],
   "source": [
    "#Here we find all the users who have reviewed a movie that user 196 has reviewed, and find a list of all the users that share\n",
    "#at least 1 common movie"
   ]
  },
  {
   "cell_type": "code",
   "execution_count": 4,
   "metadata": {
    "collapsed": true
   },
   "outputs": [],
   "source": [
    "similar_movies = ratings[ratings.movie_id.isin(ratings_196.movie_id)]\n",
    "similar_movies = similar_movies[similar_movies.user_id != 196]\n",
    "similar_movies = similar_movies.sort_values(by = ['user_id'],ascending = True)\n",
    "similar_users_np = similar_movies.user_id.unique()\n",
    "similar_users = pd.DataFrame(similar_users_np)\n",
    "similar_users.columns = ['user_id']"
   ]
  },
  {
   "cell_type": "code",
   "execution_count": null,
   "metadata": {
    "collapsed": true
   },
   "outputs": [],
   "source": [
    "#Now we search through all the users who have watched the same movies and count how many gave the same rating, or how far off \n",
    "#they werefrom user 196's rating, and we introduce a ranking system to determine who is a best fit for user 196, taking into \n",
    "#account how many movies they have in common and the percent correctness they have with user 196\n"
   ]
  },
  {
   "cell_type": "code",
   "execution_count": 212,
   "metadata": {
    "collapsed": true
   },
   "outputs": [],
   "source": [
    "matches_np = np.zeros(shape=(len(similar_users),7))\n",
    "matches = pd.DataFrame(matches_np)\n",
    "\n",
    "\n",
    "for n in range(0,len(similar_users)):\n",
    "    equal_ratings = 0\n",
    "    off_one = 0\n",
    "    off_two = 0\n",
    "    off_three = 0\n",
    "    off_four = 0\n",
    "    comparison_user = similar_movies.loc[(similar_movies.user_id == similar_users.iat[n,0])]\n",
    "    for k in range(0,len(comparison_user)):\n",
    "        specific_movie = ratings_196.loc[ratings_196.movie_id == comparison_user.iat[k,1]]\n",
    "        if (specific_movie.iat[0,2]==ratings_196.iat[k,2]):\n",
    "            equal_ratings +=1\n",
    "        elif ((specific_movie.iat[0,2]==(ratings_196.iat[k,2]-1)) or ((specific_movie.iat[0,2]==(ratings_196.iat[k,2]+1)))):\n",
    "            off_one +=1\n",
    "        elif ((specific_movie.iat[0,2]==(ratings_196.iat[k,2]-2)) or ((specific_movie.iat[0,2]==(ratings_196.iat[k,2]+2)))):\n",
    "            off_two +=1\n",
    "        elif ((specific_movie.iat[0,2]==(ratings_196.iat[k,2]-3)) or ((specific_movie.iat[0,2]==(ratings_196.iat[k,2]+3)))):\n",
    "            off_three +=1\n",
    "        elif ((specific_movie.iat[0,2]==(ratings_196.iat[k,2]-4)) or ((specific_movie.iat[0,2]==(ratings_196.iat[k,2]+4)))):\n",
    "            off_four +=1\n",
    "            \n",
    "    matches.set_value(n,0,equal_ratings)\n",
    "    matches.set_value(n,1,off_one)\n",
    "    matches.set_value(n,2,off_two)\n",
    "    matches.set_value(n,3,off_three)\n",
    "    matches.set_value(n,4,off_four)\n",
    "matches[5] = matches.sum(axis=1)\n",
    "matching_ratings = pd.concat([similar_users,matches],axis = 1) \n",
    "matching_ratings.columns = ['user_id', 'equal_rating','one_off','two_off','three_off','four_off','number_movies','rank']\n",
    "#matching_ratings['rank'] = (matching_ratings['number_movies']*(matching_ratings['equal_rating']/matching_ratings['number_movies']*2+\\\n",
    "#                            matching_ratings['one_off']/matching_ratings['number_movies']*1+\\\n",
    "#                            matching_ratings['two_off']/matching_ratings['number_movies']*0-\\\n",
    "#                            matching_ratings['three_off']/matching_ratings['number_movies']*1-\\\n",
    "#                            matching_ratings['four_off']/matching_ratings['number_movies']*2)/2)/matching_ratings.number_movies.sum(axis = 0)"
   ]
  },
  {
   "cell_type": "code",
   "execution_count": null,
   "metadata": {
    "collapsed": true
   },
   "outputs": [],
   "source": [
    "#From here, we will define a search that will leave the users that have rated the movie that user 196 is looking at (from the \n",
    "#test_ratings_196 dataframe) and then a function that gives the estimated ranking that user 196 will have (I tried having the \n",
    "#ranking before and after the search and they produce results which tend to be higher and lower, respectively; and both require\n",
    "#different normalization constants, as reflected in the recomendation function)"
   ]
  },
  {
   "cell_type": "code",
   "execution_count": 213,
   "metadata": {},
   "outputs": [],
   "source": [
    "def search(movie_id):\n",
    "    search_similar_movies = ratings[(ratings.movie_id == movie_id)]\n",
    "    search_similar_movies = search_similar_movies[search_similar_movies.user_id.isin(similar_users.user_id)] \n",
    "    search_similar_movies = search_similar_movies.sort_values(by = ['user_id'],ascending = True)\n",
    "    rankings = matching_ratings[matching_ratings.user_id.isin(search_similar_movies.user_id)]\n",
    "    search_similar_movies = pd.merge(search_similar_movies, rankings,how = 'inner',on = 'user_id')\n",
    "    search_similar_movies['rank'] = (search_similar_movies['number_movies']*(search_similar_movies['equal_rating']/search_similar_movies['number_movies']*5+\\\n",
    "                            search_similar_movies['one_off']/search_similar_movies['number_movies']*4+\\\n",
    "                            search_similar_movies['two_off']/search_similar_movies['number_movies']*3+\\\n",
    "                            search_similar_movies['three_off']/search_similar_movies['number_movies']*2+\\\n",
    "                            search_similar_movies['four_off']/search_similar_movies['number_movies']*1)/2)/search_similar_movies.number_movies.sum(axis = 0)\n",
    "    return search_similar_movies"
   ]
  },
  {
   "cell_type": "code",
   "execution_count": 226,
   "metadata": {
    "collapsed": true
   },
   "outputs": [],
   "source": [
    "def recomendation(movie_id):\n",
    "    user_ratings = search(movie_id)\n",
    "    recomend_np = np.zeros(shape = (len(user_ratings),1))\n",
    "    recomend = pd.DataFrame(recomend_np)\n",
    "    recomend.columns = ['weighted_score']\n",
    "    recomend['weighted_score'] = user_ratings['rating']*user_ratings['rank']\n",
    "    recomended_score = round(recomend.weighted_score.sum()*5/8   #*5)\n",
    "    return recomended_score"
   ]
  },
  {
   "cell_type": "code",
   "execution_count": 227,
   "metadata": {},
   "outputs": [
    {
     "data": {
      "image/png": "[encoded data removed]",
      "text/plain": [
       "<matplotlib.figure.Figure at 0x2000708fac8>"
      ]
     },
     "metadata": {},
     "output_type": "display_data"
    }
   ],
   "source": [
    "holder = np.zeros(shape = (len(test_ratings_196),2))\n",
    "holder = pd.DataFrame(holder)\n",
    "for n in range(0,len(test_ratings_196)):\n",
    "    holder.iat[n,0] = test_ratings_196.iat[n,1]\n",
    "    holder.iat[n,1] = recomendation(test_ratings_196.iat[n,1])\n",
    "holder.columns = ['movie_id', 'recomended_score']\n",
    "comparison = pd.merge(test_ratings_196, holder,how = 'inner', on = 'movie_id')\n",
    "comparison = comparison.drop(['user_id', 'movie_id'], axis=1)\n",
    "comparison.plot.barh()\n",
    "plt.show()"
   ]
  },
  {
   "cell_type": "code",
   "execution_count": null,
   "metadata": {
    "collapsed": true
   },
   "outputs": [],
   "source": [
    "#As seen in the chart above, the method of ranking after the search produces a better result. However, this may due to all\n",
    "#the test reviews being more 4 or 5's than having the lower end of the ratings."
   ]
  }
 ],
 "metadata": {
  "kernelspec": {
   "display_name": "Python 3",
   "language": "python",
   "name": "python3"
  },
  "language_info": {
   "codemirror_mode": {
    "name": "ipython",
    "version": 3
   },
   "file_extension": ".py",
   "mimetype": "text/x-python",
   "name": "python",
   "nbconvert_exporter": "python",
   "pygments_lexer": "ipython3",
   "version": "3.6.1"
  }
 },
 "nbformat": 4,
 "nbformat_minor": 2
}
